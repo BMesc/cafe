{
  "nbformat": 4,
  "nbformat_minor": 0,
  "metadata": {
    "colab": {
      "name": "DecisionTree - Café",
      "provenance": [],
      "authorship_tag": "ABX9TyMQyvfAiKCjMkgiJ9UXbXjS",
      "include_colab_link": true
    },
    "kernelspec": {
      "name": "python3",
      "display_name": "Python 3"
    }
  },
  "cells": [
    {
      "cell_type": "markdown",
      "metadata": {
        "id": "view-in-github",
        "colab_type": "text"
      },
      "source": [
        "<a href=\"https://colab.research.google.com/github/BMesc/cafe/blob/master/DecisionTree_Caf%C3%A9.ipynb\" target=\"_parent\"><img src=\"https://colab.research.google.com/assets/colab-badge.svg\" alt=\"Open In Colab\"/></a>"
      ]
    },
    {
      "cell_type": "code",
      "metadata": {
        "id": "6l2L43GN4MAL",
        "colab": {
          "base_uri": "https://localhost:8080/",
          "height": 204
        },
        "outputId": "d3ae666d-9209-4826-efe4-1de1c55a4fd5"
      },
      "source": [
        "from sklearn import datasets\n",
        "import pandas as pd\n",
        "import numpy as np\n",
        "from sklearn.model_selection import train_test_split\n",
        "\n",
        "uri = \"https://raw.githubusercontent.com/BMesc/cafe/master/data.csv\"\n",
        "\n",
        "graos = pd.read_csv(uri)\n",
        "\n",
        "graos.head()"
      ],
      "execution_count": null,
      "outputs": [
        {
          "output_type": "execute_result",
          "data": {
            "text/html": [
              "<div>\n",
              "<style scoped>\n",
              "    .dataframe tbody tr th:only-of-type {\n",
              "        vertical-align: middle;\n",
              "    }\n",
              "\n",
              "    .dataframe tbody tr th {\n",
              "        vertical-align: top;\n",
              "    }\n",
              "\n",
              "    .dataframe thead th {\n",
              "        text-align: right;\n",
              "    }\n",
              "</style>\n",
              "<table border=\"1\" class=\"dataframe\">\n",
              "  <thead>\n",
              "    <tr style=\"text-align: right;\">\n",
              "      <th></th>\n",
              "      <th>Area</th>\n",
              "      <th>Roundness</th>\n",
              "      <th>R</th>\n",
              "      <th>G</th>\n",
              "      <th>B</th>\n",
              "    </tr>\n",
              "  </thead>\n",
              "  <tbody>\n",
              "    <tr>\n",
              "      <th>0</th>\n",
              "      <td>1686.5</td>\n",
              "      <td>0.860310</td>\n",
              "      <td>146.814374</td>\n",
              "      <td>91.722222</td>\n",
              "      <td>78.931217</td>\n",
              "    </tr>\n",
              "    <tr>\n",
              "      <th>1</th>\n",
              "      <td>1582.5</td>\n",
              "      <td>0.867122</td>\n",
              "      <td>154.086069</td>\n",
              "      <td>99.466282</td>\n",
              "      <td>87.618456</td>\n",
              "    </tr>\n",
              "    <tr>\n",
              "      <th>2</th>\n",
              "      <td>1476.0</td>\n",
              "      <td>0.875663</td>\n",
              "      <td>153.118258</td>\n",
              "      <td>95.830282</td>\n",
              "      <td>81.781296</td>\n",
              "    </tr>\n",
              "    <tr>\n",
              "      <th>3</th>\n",
              "      <td>1576.5</td>\n",
              "      <td>0.856058</td>\n",
              "      <td>148.290476</td>\n",
              "      <td>91.926190</td>\n",
              "      <td>80.050952</td>\n",
              "    </tr>\n",
              "    <tr>\n",
              "      <th>4</th>\n",
              "      <td>1462.5</td>\n",
              "      <td>0.870554</td>\n",
              "      <td>143.559487</td>\n",
              "      <td>85.235897</td>\n",
              "      <td>73.726667</td>\n",
              "    </tr>\n",
              "  </tbody>\n",
              "</table>\n",
              "</div>"
            ],
            "text/plain": [
              "     Area  Roundness           R          G          B\n",
              "0  1686.5   0.860310  146.814374  91.722222  78.931217\n",
              "1  1582.5   0.867122  154.086069  99.466282  87.618456\n",
              "2  1476.0   0.875663  153.118258  95.830282  81.781296\n",
              "3  1576.5   0.856058  148.290476  91.926190  80.050952\n",
              "4  1462.5   0.870554  143.559487  85.235897  73.726667"
            ]
          },
          "metadata": {
            "tags": []
          },
          "execution_count": 66
        }
      ]
    },
    {
      "cell_type": "code",
      "metadata": {
        "id": "tQMl_ebX4SyL"
      },
      "source": [
        "x=graos[['Area', 'Roundness', 'R', 'G', 'B']].values.tolist()"
      ],
      "execution_count": null,
      "outputs": []
    },
    {
      "cell_type": "code",
      "metadata": {
        "id": "zyL4_wKw4VkO"
      },
      "source": [
        "y = ([0]*88) + ([1]*41) + ([2]*14) + ([3]*19)"
      ],
      "execution_count": null,
      "outputs": []
    },
    {
      "cell_type": "code",
      "metadata": {
        "id": "F9C8n4NC4WK4"
      },
      "source": [
        "from sklearn.model_selection import train_test_split\n",
        "from sklearn.preprocessing import scale\n",
        "X_train, X_test, y_train, y_test = train_test_split(x, y, test_size=0.3, random_state=1, stratify=y)\n",
        "X_train =  scale(X_train)\n",
        "X_test = scale(X_test)\n",
        "x = scale(x)"
      ],
      "execution_count": null,
      "outputs": []
    },
    {
      "cell_type": "code",
      "metadata": {
        "id": "uXiXuysF4YdG"
      },
      "source": [
        "from sklearn.tree import DecisionTreeClassifier\n",
        "import matplotlib.pyplot\n",
        "clf = DecisionTreeClassifier()\n",
        "treino = clf.fit(X_train, y_train)"
      ],
      "execution_count": null,
      "outputs": []
    },
    {
      "cell_type": "code",
      "metadata": {
        "id": "2QMU5LYF40Az"
      },
      "source": [
        "pred = clf.predict(X_test)"
      ],
      "execution_count": null,
      "outputs": []
    },
    {
      "cell_type": "code",
      "metadata": {
        "id": "TQezmtNt44YO",
        "colab": {
          "base_uri": "https://localhost:8080/",
          "height": 273
        },
        "outputId": "183e0720-01ab-4917-9a99-e0b3a4f82a6c"
      },
      "source": [
        "import seaborn as sn\n",
        "from sklearn.metrics import confusion_matrix\n",
        "import matplotlib.pyplot as plt\n",
        "cm = confusion_matrix(y_test, pred)\n",
        "sn.set(font_scale=1.4) # for label size\n",
        "sn.heatmap(cm, annot=True, annot_kws={\"size\": 14}) # font size\n",
        "\n",
        "plt.show()"
      ],
      "execution_count": null,
      "outputs": [
        {
          "output_type": "display_data",
          "data": {
            "image/png": "[encoded data removed]",
            "text/plain": [
              "<Figure size 432x288 with 2 Axes>"
            ]
          },
          "metadata": {
            "tags": []
          }
        }
      ]
    },
    {
      "cell_type": "code",
      "metadata": {
        "id": "TYVhbdMc52lQ",
        "colab": {
          "base_uri": "https://localhost:8080/",
          "height": 34
        },
        "outputId": "f6d6ffe2-7bf4-4803-ea65-8996c407cda7"
      },
      "source": [
        "clf.score(X_test, y_test)"
      ],
      "execution_count": null,
      "outputs": [
        {
          "output_type": "execute_result",
          "data": {
            "text/plain": [
              "0.8979591836734694"
            ]
          },
          "metadata": {
            "tags": []
          },
          "execution_count": 53
        }
      ]
    },
    {
      "cell_type": "code",
      "metadata": {
        "id": "Np48-Rgi6GzA",
        "colab": {
          "base_uri": "https://localhost:8080/",
          "height": 51
        },
        "outputId": "dab54adc-afd5-48a0-bc5c-02f81db55097"
      },
      "source": [
        "from sklearn.tree import tree\n",
        "from sklearn.model_selection import cross_val_score\n",
        "clf_k = tree.DecisionTreeClassifier()\n",
        "#train model with cv of 5 \n",
        "cv_scores = cross_val_score(clf_k, x, y, cv=5)\n",
        "#print each cv score (accuracy) and average them\n",
        "print(cv_scores)\n",
        "print('cv_scores mean:{}'.format(np.mean(cv_scores)))"
      ],
      "execution_count": null,
      "outputs": [
        {
          "output_type": "stream",
          "text": [
            "[0.84848485 0.96969697 0.90625    0.9375     0.875     ]\n",
            "cv_scores mean:0.9073863636363637\n"
          ],
          "name": "stdout"
        }
      ]
    }
  ]
}