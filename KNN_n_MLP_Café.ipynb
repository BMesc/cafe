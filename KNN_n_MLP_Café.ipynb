{
  "nbformat": 4,
  "nbformat_minor": 0,
  "metadata": {
    "colab": {
      "name": "KNN n MLP- Café",
      "provenance": [],
      "authorship_tag": "ABX9TyPTz+cdJGuBTUB4f5fe0ahW",
      "include_colab_link": true
    },
    "kernelspec": {
      "name": "python3",
      "display_name": "Python 3"
    }
  },
  "cells": [
    {
      "cell_type": "markdown",
      "metadata": {
        "id": "view-in-github",
        "colab_type": "text"
      },
      "source": [
        "<a href=\"https://colab.research.google.com/github/BMesc/cafe/blob/master/KNN_n_MLP_Caf%C3%A9.ipynb\" target=\"_parent\"><img src=\"https://colab.research.google.com/assets/colab-badge.svg\" alt=\"Open In Colab\"/></a>"
      ]
    },
    {
      "cell_type": "code",
      "metadata": {
        "id": "GWQVq86mf7GW",
        "colab": {
          "base_uri": "https://localhost:8080/",
          "height": 204
        },
        "outputId": "605c4430-672a-40ae-87ce-939e511e3b72"
      },
      "source": [
        "from sklearn import datasets\n",
        "import pandas as pd\n",
        "import numpy as np\n",
        "from sklearn.model_selection import train_test_split\n",
        "\n",
        "uri = \"https://raw.githubusercontent.com/BMesc/cafe/master/data.csv\"\n",
        "\n",
        "graos = pd.read_csv(uri)\n",
        "\n",
        "graos.head()"
      ],
      "execution_count": null,
      "outputs": [
        {
          "output_type": "execute_result",
          "data": {
            "text/html": [
              "<div>\n",
              "<style scoped>\n",
              "    .dataframe tbody tr th:only-of-type {\n",
              "        vertical-align: middle;\n",
              "    }\n",
              "\n",
              "    .dataframe tbody tr th {\n",
              "        vertical-align: top;\n",
              "    }\n",
              "\n",
              "    .dataframe thead th {\n",
              "        text-align: right;\n",
              "    }\n",
              "</style>\n",
              "<table border=\"1\" class=\"dataframe\">\n",
              "  <thead>\n",
              "    <tr style=\"text-align: right;\">\n",
              "      <th></th>\n",
              "      <th>Area</th>\n",
              "      <th>Roundness</th>\n",
              "      <th>R</th>\n",
              "      <th>G</th>\n",
              "      <th>B</th>\n",
              "    </tr>\n",
              "  </thead>\n",
              "  <tbody>\n",
              "    <tr>\n",
              "      <th>0</th>\n",
              "      <td>1686.5</td>\n",
              "      <td>0.860310</td>\n",
              "      <td>146.814374</td>\n",
              "      <td>91.722222</td>\n",
              "      <td>78.931217</td>\n",
              "    </tr>\n",
              "    <tr>\n",
              "      <th>1</th>\n",
              "      <td>1582.5</td>\n",
              "      <td>0.867122</td>\n",
              "      <td>154.086069</td>\n",
              "      <td>99.466282</td>\n",
              "      <td>87.618456</td>\n",
              "    </tr>\n",
              "    <tr>\n",
              "      <th>2</th>\n",
              "      <td>1476.0</td>\n",
              "      <td>0.875663</td>\n",
              "      <td>153.118258</td>\n",
              "      <td>95.830282</td>\n",
              "      <td>81.781296</td>\n",
              "    </tr>\n",
              "    <tr>\n",
              "      <th>3</th>\n",
              "      <td>1576.5</td>\n",
              "      <td>0.856058</td>\n",
              "      <td>148.290476</td>\n",
              "      <td>91.926190</td>\n",
              "      <td>80.050952</td>\n",
              "    </tr>\n",
              "    <tr>\n",
              "      <th>4</th>\n",
              "      <td>1462.5</td>\n",
              "      <td>0.870554</td>\n",
              "      <td>143.559487</td>\n",
              "      <td>85.235897</td>\n",
              "      <td>73.726667</td>\n",
              "    </tr>\n",
              "  </tbody>\n",
              "</table>\n",
              "</div>"
            ],
            "text/plain": [
              "     Area  Roundness           R          G          B\n",
              "0  1686.5   0.860310  146.814374  91.722222  78.931217\n",
              "1  1582.5   0.867122  154.086069  99.466282  87.618456\n",
              "2  1476.0   0.875663  153.118258  95.830282  81.781296\n",
              "3  1576.5   0.856058  148.290476  91.926190  80.050952\n",
              "4  1462.5   0.870554  143.559487  85.235897  73.726667"
            ]
          },
          "metadata": {
            "tags": []
          },
          "execution_count": 1
        }
      ]
    },
    {
      "cell_type": "code",
      "metadata": {
        "id": "yFza3Tn1gBVE"
      },
      "source": [
        "x=graos[['Area', 'Roundness', 'R', 'G', 'B']].values.tolist()"
      ],
      "execution_count": null,
      "outputs": []
    },
    {
      "cell_type": "code",
      "metadata": {
        "id": "-KCkwpc9gV9D"
      },
      "source": [
        "y = ([0]*88) + ([1]*41) + ([2]*14) + ([3]*19) #the target values for comparison"
      ],
      "execution_count": null,
      "outputs": []
    },
    {
      "cell_type": "code",
      "metadata": {
        "id": "lmNx2e_Wp6bU"
      },
      "source": [
        "graos['Class'] = y"
      ],
      "execution_count": null,
      "outputs": []
    },
    {
      "cell_type": "code",
      "metadata": {
        "id": "9cpqykaNgvL2"
      },
      "source": [
        "from sklearn.model_selection import train_test_split\n",
        "from sklearn.preprocessing import scale\n",
        "X_train, X_test, y_train, y_test = train_test_split(x, y, test_size=0.3, random_state=1, stratify=y)\n",
        "X_train =  scale(X_train)\n",
        "X_test = scale(X_test)\n",
        "x = scale(x)"
      ],
      "execution_count": null,
      "outputs": []
    },
    {
      "cell_type": "markdown",
      "metadata": {
        "id": "ZbZ24ZjkvlmX"
      },
      "source": [
        "# **Train Test Split (holdout)**"
      ]
    },
    {
      "cell_type": "code",
      "metadata": {
        "id": "Gz_JMyx7g6Vf"
      },
      "source": [
        "from sklearn.neighbors import KNeighborsClassifier\n",
        "neigh = KNeighborsClassifier(n_neighbors=3)\n",
        "treino = neigh.fit(X_train, y_train)"
      ],
      "execution_count": null,
      "outputs": []
    },
    {
      "cell_type": "code",
      "metadata": {
        "id": "RMIEbrlEhSf2"
      },
      "source": [
        "pred = neigh.predict(X_test)"
      ],
      "execution_count": null,
      "outputs": []
    },
    {
      "cell_type": "code",
      "metadata": {
        "id": "Bl1HG13Yh0cb",
        "colab": {
          "base_uri": "https://localhost:8080/",
          "height": 273
        },
        "outputId": "25222c0b-65d4-4888-d264-b1bfdd653f79"
      },
      "source": [
        "import seaborn as sn\n",
        "from sklearn.metrics import confusion_matrix\n",
        "import matplotlib.pyplot as plt\n",
        "cm = confusion_matrix(y_test, pred)\n",
        "sn.set(font_scale=1.4) # for label size\n",
        "sn.heatmap(cm, annot=True, annot_kws={\"size\": 14}) # font size\n",
        "\n",
        "plt.show()"
      ],
      "execution_count": null,
      "outputs": [
        {
          "output_type": "display_data",
          "data": {
            "image/png": "[encoded data removed]",
            "text/plain": [
              "<Figure size 432x288 with 2 Axes>"
            ]
          },
          "metadata": {
            "tags": []
          }
        }
      ]
    },
    {
      "cell_type": "code",
      "metadata": {
        "id": "ytMc66rJt2cZ",
        "colab": {
          "base_uri": "https://localhost:8080/",
          "height": 34
        },
        "outputId": "e8b20593-ab85-4638-a635-97de347cb6fd"
      },
      "source": [
        "neigh.score(X_test, y_test)"
      ],
      "execution_count": null,
      "outputs": [
        {
          "output_type": "execute_result",
          "data": {
            "text/plain": [
              "0.9591836734693877"
            ]
          },
          "metadata": {
            "tags": []
          },
          "execution_count": 110
        }
      ]
    },
    {
      "cell_type": "markdown",
      "metadata": {
        "id": "KU6UGWQpuwtv"
      },
      "source": [
        "# **Cross Validation k-fold = 5**"
      ]
    },
    {
      "cell_type": "code",
      "metadata": {
        "id": "7-jAWnU3u_o_",
        "colab": {
          "base_uri": "https://localhost:8080/",
          "height": 51
        },
        "outputId": "ce54559c-0aeb-43da-cdde-e84aa0245965"
      },
      "source": [
        "from sklearn.model_selection import cross_val_score\n",
        "#creating a new KNN model\n",
        "knn_cv = KNeighborsClassifier(n_neighbors=3)\n",
        "#train model with cv of 5 \n",
        "cv_scores = cross_val_score(knn_cv, x, y, cv=5)\n",
        "#print each cv score (accuracy) and average them\n",
        "print(cv_scores)\n",
        "print('cv_scores mean:{}'.format(np.mean(cv_scores)))"
      ],
      "execution_count": null,
      "outputs": [
        {
          "output_type": "stream",
          "text": [
            "[0.90909091 1.         1.         0.90625    0.84375   ]\n",
            "cv_scores mean:0.9318181818181819\n"
          ],
          "name": "stdout"
        }
      ]
    },
    {
      "cell_type": "markdown",
      "metadata": {
        "id": "Jj4fTz0h00yn"
      },
      "source": [
        " **Leave One out**"
      ]
    },
    {
      "cell_type": "code",
      "metadata": {
        "id": "s-OJPLsp03Nc",
        "colab": {
          "base_uri": "https://localhost:8080/",
          "height": 34
        },
        "outputId": "6c29b59b-ef60-4116-bc6e-9097280915e5"
      },
      "source": [
        "from sklearn.model_selection import LeaveOneOut\n",
        "from sklearn import model_selection\n",
        "loocv = model_selection.LeaveOneOut()\n",
        "results_loocv = model_selection.cross_val_score(neigh, x, y, cv=loocv)\n",
        "print(\"Acurácia: %.2f%%\" % (results_loocv.mean()*100.0))"
      ],
      "execution_count": null,
      "outputs": [
        {
          "output_type": "stream",
          "text": [
            "Acurácia: 93.21%\n"
          ],
          "name": "stdout"
        }
      ]
    },
    {
      "cell_type": "markdown",
      "metadata": {
        "id": "hw739D7Lqyqt"
      },
      "source": [
        "#Using **MLP**"
      ]
    },
    {
      "cell_type": "code",
      "metadata": {
        "id": "MT8eWW46q3yp"
      },
      "source": [
        "from sklearn.neural_network import MLPClassifier\n",
        "clf_mlp = MLPClassifier( alpha=1e-5, hidden_layer_sizes=(6, 6), random_state=1, max_iter=2000)\n",
        "treino5 = clf_mlp.fit(X_train, y_train)"
      ],
      "execution_count": null,
      "outputs": []
    },
    {
      "cell_type": "code",
      "metadata": {
        "id": "U-B9vWKgsMra"
      },
      "source": [
        "predmlp = clf_mlp.predict(X_test)"
      ],
      "execution_count": null,
      "outputs": []
    },
    {
      "cell_type": "code",
      "metadata": {
        "id": "s7_0aDNasUq9",
        "colab": {
          "base_uri": "https://localhost:8080/",
          "height": 273
        },
        "outputId": "7c44b1e8-3138-4143-ea41-1a56fb6b5e3d"
      },
      "source": [
        "import seaborn as sn\n",
        "from sklearn.metrics import confusion_matrix\n",
        "import matplotlib.pyplot as plt\n",
        "cm = confusion_matrix(y_test, predmlp)\n",
        "sn.set(font_scale=1.4) # for label size\n",
        "sn.heatmap(cm, annot=True, annot_kws={\"size\": 14}) # font size\n",
        "\n",
        "plt.show()"
      ],
      "execution_count": null,
      "outputs": [
        {
          "output_type": "display_data",
          "data": {
            "image/png": "[encoded data removed]",
            "text/plain": [
              "<Figure size 432x288 with 2 Axes>"
            ]
          },
          "metadata": {
            "tags": []
          }
        }
      ]
    },
    {
      "cell_type": "code",
      "metadata": {
        "id": "zhxR-63SrSbp",
        "colab": {
          "base_uri": "https://localhost:8080/",
          "height": 34
        },
        "outputId": "37d78a90-eccd-4b1a-9d2c-15aa320ae5b9"
      },
      "source": [
        "clf_mlp.score(X_test,y_test)"
      ],
      "execution_count": null,
      "outputs": [
        {
          "output_type": "execute_result",
          "data": {
            "text/plain": [
              "0.9591836734693877"
            ]
          },
          "metadata": {
            "tags": []
          },
          "execution_count": 47
        }
      ]
    },
    {
      "cell_type": "markdown",
      "metadata": {
        "id": "aKdEeDqDuxIQ"
      },
      "source": [
        "**K-Fold - Cross Validation**"
      ]
    },
    {
      "cell_type": "code",
      "metadata": {
        "id": "qCodZEv2tjcg",
        "colab": {
          "base_uri": "https://localhost:8080/",
          "height": 51
        },
        "outputId": "caf4c41b-3b74-418d-a3e0-1b90e06cf5b2"
      },
      "source": [
        "from sklearn.model_selection import cross_val_score\n",
        "#train model with cv of 5 \n",
        "cv_scores = cross_val_score(clf_mlp, x, y, cv=5)\n",
        "#print each cv score (accuracy) and average them\n",
        "print(cv_scores)\n",
        "print('cv_scores mean:{}'.format(np.mean(cv_scores)))"
      ],
      "execution_count": null,
      "outputs": [
        {
          "output_type": "stream",
          "text": [
            "[0.96969697 1.         0.96875    0.96875    0.875     ]\n",
            "cv_scores mean:0.9564393939393939\n"
          ],
          "name": "stdout"
        }
      ]
    },
    {
      "cell_type": "markdown",
      "metadata": {
        "id": "pYMx6nDFu4pV"
      },
      "source": [
        "**Leave one out**"
      ]
    },
    {
      "cell_type": "code",
      "metadata": {
        "id": "PiAYfD3pu86Z",
        "colab": {
          "base_uri": "https://localhost:8080/",
          "height": 34
        },
        "outputId": "ba964814-20a3-4e2d-9df7-bd4f093f1f9d"
      },
      "source": [
        "from sklearn.model_selection import LeaveOneOut\n",
        "from sklearn import model_selection\n",
        "loocv = model_selection.LeaveOneOut()\n",
        "results_loocv = model_selection.cross_val_score(clf_mlp, x, y, cv=loocv)\n",
        "print(\"Acurácia: %.2f%%\" % (results_loocv.mean()*100.0))"
      ],
      "execution_count": null,
      "outputs": [
        {
          "output_type": "stream",
          "text": [
            "Acurácia: 96.91%\n"
          ],
          "name": "stdout"
        }
      ]
    }
  ]
}