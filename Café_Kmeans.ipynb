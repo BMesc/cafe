{
  "nbformat": 4,
  "nbformat_minor": 0,
  "metadata": {
    "colab": {
      "name": "Café - Kmeans",
      "provenance": [],
      "collapsed_sections": [],
      "authorship_tag": "ABX9TyO/GMX3eEbpAxK+a5TkwTAJ",
      "include_colab_link": true
    },
    "kernelspec": {
      "name": "python3",
      "display_name": "Python 3"
    }
  },
  "cells": [
    {
      "cell_type": "markdown",
      "metadata": {
        "id": "view-in-github",
        "colab_type": "text"
      },
      "source": [
        "<a href=\"https://colab.research.google.com/github/BMesc/cafe/blob/master/Caf%C3%A9_Kmeans.ipynb\" target=\"_parent\"><img src=\"https://colab.research.google.com/assets/colab-badge.svg\" alt=\"Open In Colab\"/></a>"
      ]
    },
    {
      "cell_type": "code",
      "metadata": {
        "id": "GFOgJl3NWAcj",
        "colab": {
          "base_uri": "https://localhost:8080/",
          "height": 204
        },
        "outputId": "761d5219-5e4d-4680-b2b3-8749cdadc641"
      },
      "source": [
        "from sklearn import datasets\n",
        "import pandas as pd\n",
        "import numpy as np\n",
        "from sklearn.model_selection import train_test_split\n",
        "\n",
        "uri = \"https://raw.githubusercontent.com/BMesc/cafe/master/data.csv\"\n",
        "\n",
        "graos = pd.read_csv(uri)\n",
        "\n",
        "graos.head()"
      ],
      "execution_count": null,
      "outputs": [
        {
          "output_type": "execute_result",
          "data": {
            "text/html": [
              "<div>\n",
              "<style scoped>\n",
              "    .dataframe tbody tr th:only-of-type {\n",
              "        vertical-align: middle;\n",
              "    }\n",
              "\n",
              "    .dataframe tbody tr th {\n",
              "        vertical-align: top;\n",
              "    }\n",
              "\n",
              "    .dataframe thead th {\n",
              "        text-align: right;\n",
              "    }\n",
              "</style>\n",
              "<table border=\"1\" class=\"dataframe\">\n",
              "  <thead>\n",
              "    <tr style=\"text-align: right;\">\n",
              "      <th></th>\n",
              "      <th>Area</th>\n",
              "      <th>Roundness</th>\n",
              "      <th>R</th>\n",
              "      <th>G</th>\n",
              "      <th>B</th>\n",
              "    </tr>\n",
              "  </thead>\n",
              "  <tbody>\n",
              "    <tr>\n",
              "      <th>0</th>\n",
              "      <td>1686.5</td>\n",
              "      <td>0.860310</td>\n",
              "      <td>146.814374</td>\n",
              "      <td>91.722222</td>\n",
              "      <td>78.931217</td>\n",
              "    </tr>\n",
              "    <tr>\n",
              "      <th>1</th>\n",
              "      <td>1582.5</td>\n",
              "      <td>0.867122</td>\n",
              "      <td>154.086069</td>\n",
              "      <td>99.466282</td>\n",
              "      <td>87.618456</td>\n",
              "    </tr>\n",
              "    <tr>\n",
              "      <th>2</th>\n",
              "      <td>1476.0</td>\n",
              "      <td>0.875663</td>\n",
              "      <td>153.118258</td>\n",
              "      <td>95.830282</td>\n",
              "      <td>81.781296</td>\n",
              "    </tr>\n",
              "    <tr>\n",
              "      <th>3</th>\n",
              "      <td>1576.5</td>\n",
              "      <td>0.856058</td>\n",
              "      <td>148.290476</td>\n",
              "      <td>91.926190</td>\n",
              "      <td>80.050952</td>\n",
              "    </tr>\n",
              "    <tr>\n",
              "      <th>4</th>\n",
              "      <td>1462.5</td>\n",
              "      <td>0.870554</td>\n",
              "      <td>143.559487</td>\n",
              "      <td>85.235897</td>\n",
              "      <td>73.726667</td>\n",
              "    </tr>\n",
              "  </tbody>\n",
              "</table>\n",
              "</div>"
            ],
            "text/plain": [
              "     Area  Roundness           R          G          B\n",
              "0  1686.5   0.860310  146.814374  91.722222  78.931217\n",
              "1  1582.5   0.867122  154.086069  99.466282  87.618456\n",
              "2  1476.0   0.875663  153.118258  95.830282  81.781296\n",
              "3  1576.5   0.856058  148.290476  91.926190  80.050952\n",
              "4  1462.5   0.870554  143.559487  85.235897  73.726667"
            ]
          },
          "metadata": {
            "tags": []
          },
          "execution_count": 1
        }
      ]
    },
    {
      "cell_type": "code",
      "metadata": {
        "id": "djG1SKYqqxDz",
        "colab": {
          "base_uri": "https://localhost:8080/",
          "height": 221
        },
        "outputId": "d39efb94-572e-4f77-bf91-da6e3db4a339"
      },
      "source": [
        "graos.info()"
      ],
      "execution_count": null,
      "outputs": [
        {
          "output_type": "stream",
          "text": [
            "<class 'pandas.core.frame.DataFrame'>\n",
            "RangeIndex: 162 entries, 0 to 161\n",
            "Data columns (total 5 columns):\n",
            " #   Column     Non-Null Count  Dtype  \n",
            "---  ------     --------------  -----  \n",
            " 0   Area       162 non-null    float64\n",
            " 1   Roundness  162 non-null    float64\n",
            " 2   R          162 non-null    float64\n",
            " 3   G          162 non-null    float64\n",
            " 4   B          162 non-null    float64\n",
            "dtypes: float64(5)\n",
            "memory usage: 6.5 KB\n"
          ],
          "name": "stdout"
        }
      ]
    },
    {
      "cell_type": "code",
      "metadata": {
        "id": "iljRpDSkrfJr",
        "colab": {
          "base_uri": "https://localhost:8080/",
          "height": 297
        },
        "outputId": "71971d3f-752e-420e-f860-c303a6108834"
      },
      "source": [
        "graos.describe()"
      ],
      "execution_count": null,
      "outputs": [
        {
          "output_type": "execute_result",
          "data": {
            "text/html": [
              "<div>\n",
              "<style scoped>\n",
              "    .dataframe tbody tr th:only-of-type {\n",
              "        vertical-align: middle;\n",
              "    }\n",
              "\n",
              "    .dataframe tbody tr th {\n",
              "        vertical-align: top;\n",
              "    }\n",
              "\n",
              "    .dataframe thead th {\n",
              "        text-align: right;\n",
              "    }\n",
              "</style>\n",
              "<table border=\"1\" class=\"dataframe\">\n",
              "  <thead>\n",
              "    <tr style=\"text-align: right;\">\n",
              "      <th></th>\n",
              "      <th>Area</th>\n",
              "      <th>Roundness</th>\n",
              "      <th>R</th>\n",
              "      <th>G</th>\n",
              "      <th>B</th>\n",
              "    </tr>\n",
              "  </thead>\n",
              "  <tbody>\n",
              "    <tr>\n",
              "      <th>count</th>\n",
              "      <td>162.000000</td>\n",
              "      <td>162.000000</td>\n",
              "      <td>162.000000</td>\n",
              "      <td>162.000000</td>\n",
              "      <td>162.000000</td>\n",
              "    </tr>\n",
              "    <tr>\n",
              "      <th>mean</th>\n",
              "      <td>1948.947531</td>\n",
              "      <td>0.851203</td>\n",
              "      <td>150.342004</td>\n",
              "      <td>96.656360</td>\n",
              "      <td>84.346037</td>\n",
              "    </tr>\n",
              "    <tr>\n",
              "      <th>std</th>\n",
              "      <td>452.402018</td>\n",
              "      <td>0.033489</td>\n",
              "      <td>13.786068</td>\n",
              "      <td>13.223379</td>\n",
              "      <td>11.263030</td>\n",
              "    </tr>\n",
              "    <tr>\n",
              "      <th>min</th>\n",
              "      <td>966.500000</td>\n",
              "      <td>0.720496</td>\n",
              "      <td>106.199076</td>\n",
              "      <td>53.076242</td>\n",
              "      <td>51.829804</td>\n",
              "    </tr>\n",
              "    <tr>\n",
              "      <th>25%</th>\n",
              "      <td>1611.375000</td>\n",
              "      <td>0.841734</td>\n",
              "      <td>145.214742</td>\n",
              "      <td>91.064012</td>\n",
              "      <td>77.241092</td>\n",
              "    </tr>\n",
              "    <tr>\n",
              "      <th>50%</th>\n",
              "      <td>1891.750000</td>\n",
              "      <td>0.860072</td>\n",
              "      <td>152.319542</td>\n",
              "      <td>96.438694</td>\n",
              "      <td>83.527499</td>\n",
              "    </tr>\n",
              "    <tr>\n",
              "      <th>75%</th>\n",
              "      <td>2280.500000</td>\n",
              "      <td>0.873347</td>\n",
              "      <td>159.057166</td>\n",
              "      <td>104.461894</td>\n",
              "      <td>91.087386</td>\n",
              "    </tr>\n",
              "    <tr>\n",
              "      <th>max</th>\n",
              "      <td>3297.000000</td>\n",
              "      <td>0.899331</td>\n",
              "      <td>177.762170</td>\n",
              "      <td>128.019355</td>\n",
              "      <td>111.851293</td>\n",
              "    </tr>\n",
              "  </tbody>\n",
              "</table>\n",
              "</div>"
            ],
            "text/plain": [
              "              Area   Roundness           R           G           B\n",
              "count   162.000000  162.000000  162.000000  162.000000  162.000000\n",
              "mean   1948.947531    0.851203  150.342004   96.656360   84.346037\n",
              "std     452.402018    0.033489   13.786068   13.223379   11.263030\n",
              "min     966.500000    0.720496  106.199076   53.076242   51.829804\n",
              "25%    1611.375000    0.841734  145.214742   91.064012   77.241092\n",
              "50%    1891.750000    0.860072  152.319542   96.438694   83.527499\n",
              "75%    2280.500000    0.873347  159.057166  104.461894   91.087386\n",
              "max    3297.000000    0.899331  177.762170  128.019355  111.851293"
            ]
          },
          "metadata": {
            "tags": []
          },
          "execution_count": 3
        }
      ]
    },
    {
      "cell_type": "code",
      "metadata": {
        "id": "nNlMHg87rzlQ",
        "colab": {
          "base_uri": "https://localhost:8080/",
          "height": 282
        },
        "outputId": "dd50916e-df47-46ec-bd84-848737e9de29"
      },
      "source": [
        "graos[['Area']].boxplot() #possíveis outliers"
      ],
      "execution_count": null,
      "outputs": [
        {
          "output_type": "execute_result",
          "data": {
            "text/plain": [
              "<matplotlib.axes._subplots.AxesSubplot at 0x7f15b9a1fb00>"
            ]
          },
          "metadata": {
            "tags": []
          },
          "execution_count": 4
        },
        {
          "output_type": "display_data",
          "data": {
            "image/png": "[encoded data removed]",
            "text/plain": [
              "<Figure size 432x288 with 1 Axes>"
            ]
          },
          "metadata": {
            "tags": [],
            "needs_background": "light"
          }
        }
      ]
    },
    {
      "cell_type": "code",
      "metadata": {
        "id": "wrdYAx11rB3e"
      },
      "source": [
        "x=graos[['Area', 'Roundness', 'R', 'G', 'B']].values.tolist()"
      ],
      "execution_count": null,
      "outputs": []
    },
    {
      "cell_type": "code",
      "metadata": {
        "id": "6nI7sKbdb2nq",
        "colab": {
          "base_uri": "https://localhost:8080/",
          "height": 102
        },
        "outputId": "1c376ab0-a5e8-4d32-dd75-326820673b16"
      },
      "source": [
        "from sklearn.cluster import KMeans\n",
        "from sklearn.preprocessing import scale\n",
        "from sklearn.metrics import confusion_matrix\n",
        "\n",
        "X = scale(x) #Normalizing the data\n",
        "modelo = KMeans(n_clusters=4, init='k-means++', n_init=10, max_iter=100000, tol=0.0001) \n",
        "\n",
        "modelo.fit(X) #Training the model with K-Means algorithm\n",
        "labels = modelo.labels_\n",
        "print(labels)"
      ],
      "execution_count": null,
      "outputs": [
        {
          "output_type": "stream",
          "text": [
            "[0 0 0 0 0 0 0 0 0 0 0 1 0 0 0 0 0 0 0 0 0 0 0 0 0 0 0 0 0 0 1 0 0 0 0 0 0\n",
            " 0 0 0 0 0 0 0 0 0 0 0 0 0 0 1 0 0 0 0 0 0 1 0 0 0 0 1 0 0 2 0 0 0 0 0 0 0\n",
            " 0 0 1 0 0 0 0 0 1 1 1 0 0 0 0 2 1 1 2 2 1 1 1 2 1 1 1 1 2 1 1 1 1 1 1 2 1\n",
            " 1 1 1 0 1 1 1 1 1 2 1 2 1 2 1 1 1 0 2 2 2 2 2 2 2 2 2 2 2 2 2 2 3 3 3 3 3\n",
            " 3 3 3 3 3 3 3 3 3 3 3 3 3 2]\n"
          ],
          "name": "stdout"
        }
      ]
    },
    {
      "cell_type": "code",
      "metadata": {
        "id": "uk0YLplWs77M",
        "colab": {
          "base_uri": "https://localhost:8080/",
          "height": 273
        },
        "outputId": "712c93b9-7af9-4aae-b652-4cd87cc2260a"
      },
      "source": [
        "import seaborn as sn\n",
        "import matplotlib.pyplot as plt\n",
        "y_true = ([0]*88) + ([1]*41) + ([2]*14) + ([3]*19)\n",
        "cm = confusion_matrix(y_true, labels)\n",
        "sn.set(font_scale=1.4) # for label size\n",
        "sn.heatmap(cm, annot=True, annot_kws={\"size\": 14}) # Creating a heatmap for my confusion matrix\n",
        "\n",
        "plt.show()"
      ],
      "execution_count": null,
      "outputs": [
        {
          "output_type": "display_data",
          "data": {
            "image/png": "[encoded data removed]",
            "text/plain": [
              "<Figure size 432x288 with 2 Axes>"
            ]
          },
          "metadata": {
            "tags": []
          }
        }
      ]
    },
    {
      "cell_type": "markdown",
      "metadata": {
        "id": "mg8PVPZHhRXo"
      },
      "source": [
        "# **DBSCAN**"
      ]
    },
    {
      "cell_type": "code",
      "metadata": {
        "id": "mNGFjGuchOnr"
      },
      "source": [
        "from sklearn.cluster import DBSCAN\n",
        "from sklearn.preprocessing import scale\n",
        "from sklearn.metrics import confusion_matrix\n",
        "\n",
        "X = scale(x)\n",
        "\n",
        "clustering = DBSCAN(eps = 0.1).fit(X)\n",
        "clustering.labels_"
      ],
      "execution_count": null,
      "outputs": []
    }
  ]
}